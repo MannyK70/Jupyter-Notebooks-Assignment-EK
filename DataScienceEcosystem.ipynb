{
 "cells": [
  {
   "cell_type": "markdown",
   "id": "48fe1354-ef8a-43b7-a3f9-c0e3910e3242",
   "metadata": {},
   "source": [
    "# Data Science Tools and Ecosystem"
   ]
  },
  {
   "cell_type": "markdown",
   "id": "272dafd1-125b-47a6-93cc-29591e32a674",
   "metadata": {},
   "source": [
    "## In this notebook, Data Science Tools and Ecosystem are summarized."
   ]
  },
  {
   "cell_type": "markdown",
   "id": "072126df-8a6d-4d40-b20f-a9abb1075272",
   "metadata": {},
   "source": [
    "### Some of the popular languages that Data Scientists use are:"
   ]
  },
  {
   "cell_type": "markdown",
   "id": "4af78c8a-8768-4b56-bdb1-bd67a2eaf793",
   "metadata": {},
   "source": [
    "#### 1. Python\n",
    "#### 2. SQL\n",
    "#### 3. R"
   ]
  },
  {
   "cell_type": "markdown",
   "id": "df7b0acf-aa8c-4516-9475-2ce2d854e0f4",
   "metadata": {},
   "source": [
    "### Some of the commonly used libraries used by Data Scientists include:"
   ]
  },
  {
   "cell_type": "markdown",
   "id": "d8595853-c116-4093-a437-0754ffad5579",
   "metadata": {},
   "source": [
    "#### 1. Scientific. \n",
    "#### 2. Visualization.\n",
    "#### 3. Machine learning.\n",
    "#### 4. Deep learning."
   ]
  },
  {
   "cell_type": "markdown",
   "id": "2ca01753-9caa-4710-b54e-3564f084a75c",
   "metadata": {},
   "source": [
    "###    ----------------------\n",
    "###    | Data Science Tools |\n",
    "###    ----------------------\n",
    "####   | Jupyter Notebook   |\n",
    "####   | RStudio            |\n",
    "####   | GitHub             |\n",
    "###    ----------------------"
   ]
  },
  {
   "cell_type": "markdown",
   "id": "feb13afc-54f6-4ef0-9682-7af84f16de9b",
   "metadata": {},
   "source": [
    "### Below are a few examples of evaluating arithmetic expressions in Python"
   ]
  },
  {
   "cell_type": "code",
   "execution_count": 1,
   "id": "0c7cb873-4d4d-4946-99ec-bf53b04e4cfc",
   "metadata": {},
   "outputs": [
    {
     "name": "stdout",
     "output_type": "stream",
     "text": [
      "17\n"
     ]
    }
   ],
   "source": [
    "print((3*4)+5)"
   ]
  },
  {
   "cell_type": "markdown",
   "id": "c7879cc5-17ec-4adc-b61c-ddd5c0808c0c",
   "metadata": {},
   "source": [
    "### Now to convert minutes into hours for example how many hours are there in 200 minutes?"
   ]
  },
  {
   "cell_type": "code",
   "execution_count": 3,
   "id": "f63cae45-efe5-402c-9b4a-ef3ea04768a0",
   "metadata": {},
   "outputs": [
    {
     "name": "stdout",
     "output_type": "stream",
     "text": [
      "3.3333333333333335\n"
     ]
    }
   ],
   "source": [
    "print(200/60)"
   ]
  },
  {
   "cell_type": "markdown",
   "id": "26ab5c9c-4476-49a5-a44c-a9871e5512a7",
   "metadata": {},
   "source": [
    "### ***Objectives:***"
   ]
  },
  {
   "cell_type": "markdown",
   "id": "11722936-5609-4c07-ac56-59f562cc8001",
   "metadata": {},
   "source": [
    "#### Module 1: Overview of Data Science Tools \n",
    "#### Module 2: Languages of Data Science \n",
    "#### Module 3: Libraries, APIs, Datasets, and Models \n",
    "#### Module 4: Jupyter Project \n",
    "#### Module 5: RStudio and GitHub "
   ]
  },
  {
   "cell_type": "markdown",
   "id": "a408c982-874e-41d2-9a2d-5d3f8658f44a",
   "metadata": {},
   "source": [
    "## Author\n",
    "### Emmanouel Kaloudis"
   ]
  },
  {
   "cell_type": "code",
   "execution_count": null,
   "id": "78f36726-e356-47bc-a1dc-9fc0c435c509",
   "metadata": {},
   "outputs": [],
   "source": []
  }
 ],
 "metadata": {
  "kernelspec": {
   "display_name": "Python 3 (ipykernel)",
   "language": "python",
   "name": "python3"
  },
  "language_info": {
   "codemirror_mode": {
    "name": "ipython",
    "version": 3
   },
   "file_extension": ".py",
   "mimetype": "text/x-python",
   "name": "python",
   "nbconvert_exporter": "python",
   "pygments_lexer": "ipython3",
   "version": "3.11.9"
  }
 },
 "nbformat": 4,
 "nbformat_minor": 5
}
